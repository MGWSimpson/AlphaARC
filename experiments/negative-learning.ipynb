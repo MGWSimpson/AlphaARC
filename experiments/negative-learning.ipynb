{
 "cells": [
  {
   "cell_type": "code",
   "execution_count": null,
   "id": "852956d3",
   "metadata": {},
   "outputs": [],
   "source": [
    "\n",
    "from tqdm import tqdm\n",
    "\n",
    "\n",
    "\n",
    "def run_experiment(n_epochs, batch_size, solver: SampleAndFilterSolver, curriculum, env, replay_buffer): \n",
    "    solved_task_ids = []\n",
    "    full_curriculum = None\n",
    "\n",
    "    for epoch in range(n_epochs):\n",
    "        for i in tqdm(range(0, len (full_curriculum), batch_size)):\n",
    "            batch = full_curriculum[i:i+batch_size]\n",
    "            solved_task_ids.extend( solver.solve_task(batch[0], env, replay_buffer))\n",
    "        \n",
    "        trainer.train(solver.model, replay_buffer)"
   ]
  }
 ],
 "metadata": {
  "kernelspec": {
   "display_name": "AlphaARC",
   "language": "python",
   "name": "python3"
  },
  "language_info": {
   "name": "python",
   "version": "3.10.16"
  }
 },
 "nbformat": 4,
 "nbformat_minor": 5
}
