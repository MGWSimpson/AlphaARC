{
 "cells": [
  {
   "cell_type": "code",
   "execution_count": 1,
   "id": "129b5bc2",
   "metadata": {},
   "outputs": [],
   "source": [
    "import json"
   ]
  },
  {
   "cell_type": "code",
   "execution_count": null,
   "id": "80f96520",
   "metadata": {},
   "outputs": [
    {
     "data": {
      "text/plain": [
       "False"
      ]
     },
     "execution_count": 8,
     "metadata": {},
     "output_type": "execute_result"
    }
   ],
   "source": [
    "\n",
    "\n",
    "\n",
    "with open('../data/mutated_tasks_train_9600.json') as f:\n",
    "    mutated_tasks_json = json.load(f)\n",
    "\n",
    "\n",
    "\n",
    "\n",
    "len(mutated_tasks_json.keys())\n",
    "\n",
    "mutated_tasks_json['007bbfb7_it0_0']['program']"
   ]
  },
  {
   "cell_type": "code",
   "execution_count": 6,
   "id": "ccdc794e",
   "metadata": {},
   "outputs": [
    {
     "data": {
      "text/plain": [
       "'def solve_007bbfb7_it0_25(I):\\n    x1 = hupscale(I, THREE)\\n    x2 = vupscale(x1, THREE)\\n    x3 = hconcat(I, I)\\n    x4 = hconcat(x3, I)\\n    x5 = vconcat(x4, x4)\\n    x6 = vconcat(x5, x4)\\n    O = rot90(I)\\n    return O\\n'"
      ]
     },
     "execution_count": 6,
     "metadata": {},
     "output_type": "execute_result"
    }
   ],
   "source": [
    "with open('../data/mutated_tasks_train_19200.json') as f:\n",
    "    mutated_tasks_json_other = json.load(f)\n",
    "\n",
    "\n",
    "\n",
    "len(mutated_tasks_json_other.keys())\n",
    "\n",
    "mutated_tasks_json_other['007bbfb7_it0_25']['program']"
   ]
  }
 ],
 "metadata": {
  "kernelspec": {
   "display_name": "AlphaARC",
   "language": "python",
   "name": "python3"
  },
  "language_info": {
   "codemirror_mode": {
    "name": "ipython",
    "version": 3
   },
   "file_extension": ".py",
   "mimetype": "text/x-python",
   "name": "python",
   "nbconvert_exporter": "python",
   "pygments_lexer": "ipython3",
   "version": "3.10.16"
  }
 },
 "nbformat": 4,
 "nbformat_minor": 5
}
