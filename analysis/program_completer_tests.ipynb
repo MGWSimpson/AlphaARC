{
 "cells": [
  {
   "cell_type": "markdown",
   "id": "41e5a6c9",
   "metadata": {},
   "source": [
    "# Program Completer Tests\n",
    "\n",
    "Notebook for playing around with my program completer code."
   ]
  },
  {
   "cell_type": "code",
   "execution_count": 1,
   "id": "fa0bed68",
   "metadata": {},
   "outputs": [],
   "source": [
    "from alphaarc.program_completer import ProgramCompleter\n",
    "from alphaarc.augment.program_sampler import ProgramSampler\n",
    "from alphaarc.task import Task\n",
    "\n",
    "import ast"
   ]
  },
  {
   "cell_type": "code",
   "execution_count": 2,
   "id": "ff1e5400",
   "metadata": {},
   "outputs": [],
   "source": [
    "sampler   = ProgramSampler(data_path=\"../data/\")\n",
    "completer = ProgramCompleter(sampler)"
   ]
  },
  {
   "cell_type": "code",
   "execution_count": 17,
   "id": "a438367d",
   "metadata": {},
   "outputs": [
    {
     "data": {
      "text/plain": [
       "[]"
      ]
     },
     "execution_count": 17,
     "metadata": {},
     "output_type": "execute_result"
    }
   ],
   "source": [
    "def format_as_dummy_program(program_lines):\n",
    "    return f\"\"\"def solve_28bf18c6(I):\n",
    "    {program_lines}\"\"\"\n",
    "\n",
    "\n",
    "\n",
    "program_lines = 'O = identity('\n",
    "\n",
    "task = Task.from_json('../data/training/dc1df850.json')\n",
    "\n",
    "\n",
    "completer.complete(format_as_dummy_program(program_lines),  task.training_examples[0]['input'])"
   ]
  }
 ],
 "metadata": {
  "kernelspec": {
   "display_name": "AlphaARC",
   "language": "python",
   "name": "python3"
  },
  "language_info": {
   "codemirror_mode": {
    "name": "ipython",
    "version": 3
   },
   "file_extension": ".py",
   "mimetype": "text/x-python",
   "name": "python",
   "nbconvert_exporter": "python",
   "pygments_lexer": "ipython3",
   "version": "3.10.16"
  }
 },
 "nbformat": 4,
 "nbformat_minor": 5
}
