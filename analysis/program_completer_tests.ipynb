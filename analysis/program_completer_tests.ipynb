{
 "cells": [
  {
   "cell_type": "markdown",
   "id": "41e5a6c9",
   "metadata": {},
   "source": [
    "# Program Completer Tests\n",
    "\n",
    "Notebook for playing around with my program completer code and ensuring it behaves as we expect."
   ]
  },
  {
   "cell_type": "markdown",
   "id": "993cdbd4",
   "metadata": {},
   "source": [
    "## Rigorous Test\n",
    "\n",
    "The following code serves as proof that our completion engine can solve all tasks. In essenece, if it can solve every training task, then it should in theory have no bugs (in theory)."
   ]
  },
  {
   "cell_type": "code",
   "execution_count": 2,
   "id": "d50b372e",
   "metadata": {},
   "outputs": [
    {
     "name": "stdout",
     "output_type": "stream",
     "text": [
      "d9f24cd1\n",
      "99b1bc43\n"
     ]
    },
    {
     "ename": "KeyboardInterrupt",
     "evalue": "",
     "output_type": "error",
     "traceback": [
      "\u001b[0;31m---------------------------------------------------------------------------\u001b[0m",
      "\u001b[0;31mKeyboardInterrupt\u001b[0m                         Traceback (most recent call last)",
      "Cell \u001b[0;32mIn[2], line 78\u001b[0m\n\u001b[1;32m     76\u001b[0m \u001b[38;5;28mprint\u001b[39m(task\u001b[38;5;241m.\u001b[39mtask_key)\n\u001b[1;32m     77\u001b[0m \u001b[38;5;28;01mif\u001b[39;00m i \u001b[38;5;241m!=\u001b[39m \u001b[38;5;241m66\u001b[39m: \u001b[38;5;66;03m# we skip this as it takes quite a long time to eval.\u001b[39;00m\n\u001b[0;32m---> 78\u001b[0m     \u001b[43mcomplete_full_program\u001b[49m\u001b[43m(\u001b[49m\u001b[43mtask\u001b[49m\u001b[43m,\u001b[49m\u001b[43m \u001b[49m\u001b[43mcompleter\u001b[49m\u001b[43m)\u001b[49m\n\u001b[1;32m     79\u001b[0m i \u001b[38;5;241m+\u001b[39m\u001b[38;5;241m=\u001b[39m \u001b[38;5;241m1\u001b[39m\n",
      "Cell \u001b[0;32mIn[2], line 54\u001b[0m, in \u001b[0;36mcomplete_full_program\u001b[0;34m(task, completer)\u001b[0m\n\u001b[1;32m     50\u001b[0m line_text \u001b[38;5;241m=\u001b[39m \u001b[38;5;124m\"\u001b[39m\u001b[38;5;124m\"\u001b[39m\n\u001b[1;32m     51\u001b[0m \u001b[38;5;28;01mwhile\u001b[39;00m line_text \u001b[38;5;241m!=\u001b[39m true_line:\n\u001b[0;32m---> 54\u001b[0m     completions \u001b[38;5;241m=\u001b[39m \u001b[43mcompleter\u001b[49m\u001b[38;5;241;43m.\u001b[39;49m\u001b[43mcomplete\u001b[49m\u001b[43m(\u001b[49m\u001b[43mformat_as_dummy_program\u001b[49m\u001b[43m(\u001b[49m\u001b[43mprog_text\u001b[49m\u001b[43m \u001b[49m\u001b[38;5;241;43m+\u001b[39;49m\u001b[43m \u001b[49m\u001b[43mline_text\u001b[49m\u001b[43m)\u001b[49m\u001b[43m,\u001b[49m\u001b[43m \u001b[49m\u001b[43mtask\u001b[49m\u001b[38;5;241;43m.\u001b[39;49m\u001b[43mtraining_examples\u001b[49m\u001b[43m[\u001b[49m\u001b[38;5;241;43m0\u001b[39;49m\u001b[43m]\u001b[49m\u001b[43m[\u001b[49m\u001b[38;5;124;43m'\u001b[39;49m\u001b[38;5;124;43minput\u001b[39;49m\u001b[38;5;124;43m'\u001b[39;49m\u001b[43m]\u001b[49m\u001b[43m)\u001b[49m\n\u001b[1;32m     56\u001b[0m     best_comp \u001b[38;5;241m=\u001b[39m best_completion(true_line, line_text, completions)\n\u001b[1;32m     58\u001b[0m     \u001b[38;5;28;01mif\u001b[39;00m best_comp \u001b[38;5;241m==\u001b[39m \u001b[38;5;28;01mNone\u001b[39;00m:\n",
      "File \u001b[0;32m~/AlphaARC/alphaarc/program_completer.py:273\u001b[0m, in \u001b[0;36mProgramCompleter.complete\u001b[0;34m(self, program_text, sample_task_input, program_name)\u001b[0m\n\u001b[1;32m    271\u001b[0m     \u001b[38;5;28;01mreturn\u001b[39;00m \u001b[38;5;28mself\u001b[39m\u001b[38;5;241m.\u001b[39m_complete_lhs(partial_line , lines)\n\u001b[1;32m    272\u001b[0m \u001b[38;5;28;01melse\u001b[39;00m:\n\u001b[0;32m--> 273\u001b[0m     \u001b[38;5;28;01mreturn\u001b[39;00m \u001b[38;5;28;43mself\u001b[39;49m\u001b[38;5;241;43m.\u001b[39;49m\u001b[43m_complete_rhs\u001b[49m\u001b[43m(\u001b[49m\u001b[43mpartial_line\u001b[49m\u001b[43m,\u001b[49m\u001b[43m \u001b[49m\u001b[43mlines\u001b[49m\u001b[43m,\u001b[49m\u001b[43m \u001b[49m\u001b[43mprogram_text\u001b[49m\u001b[43m,\u001b[49m\u001b[43m \u001b[49m\u001b[43msample_task_input\u001b[49m\u001b[43m)\u001b[49m\n",
      "File \u001b[0;32m~/AlphaARC/alphaarc/program_completer.py:254\u001b[0m, in \u001b[0;36mProgramCompleter._complete_rhs\u001b[0;34m(self, partial_line, lines, program_text, sample_task_input)\u001b[0m\n\u001b[1;32m    252\u001b[0m     \u001b[38;5;28;01mreturn\u001b[39;00m \u001b[38;5;28mself\u001b[39m\u001b[38;5;241m.\u001b[39m_complete_missing_functions(program_text, sample_task_input, partial_line)\n\u001b[1;32m    253\u001b[0m \u001b[38;5;28;01melse\u001b[39;00m:\n\u001b[0;32m--> 254\u001b[0m     \u001b[38;5;28;01mreturn\u001b[39;00m \u001b[38;5;28;43mself\u001b[39;49m\u001b[38;5;241;43m.\u001b[39;49m\u001b[43m_complete_missing_args\u001b[49m\u001b[43m(\u001b[49m\u001b[43mprogram_text\u001b[49m\u001b[43m,\u001b[49m\u001b[43m \u001b[49m\u001b[43msample_task_input\u001b[49m\u001b[43m)\u001b[49m\n",
      "File \u001b[0;32m~/AlphaARC/alphaarc/program_completer.py:153\u001b[0m, in \u001b[0;36mProgramCompleter._complete_missing_args\u001b[0;34m(self, partial_program, I, program_name)\u001b[0m\n\u001b[1;32m    150\u001b[0m \u001b[38;5;66;03m# check to see if the number of args exceeds\u001b[39;00m\n\u001b[1;32m    152\u001b[0m body_ast \u001b[38;5;241m=\u001b[39m ast\u001b[38;5;241m.\u001b[39mparse(finished_part)\n\u001b[0;32m--> 153\u001b[0m \u001b[43mps\u001b[49m\u001b[38;5;241;43m.\u001b[39;49m\u001b[43mtype_inferer\u001b[49m\u001b[38;5;241;43m.\u001b[39;49m\u001b[43minfer_type_from_ast\u001b[49m\u001b[43m(\u001b[49m\u001b[43mbody_ast\u001b[49m\u001b[43m)\u001b[49m \u001b[38;5;66;03m# parse the valid args and stuff\u001b[39;00m\n\u001b[1;32m    155\u001b[0m \u001b[38;5;66;03m# this is where I should make that check.\u001b[39;00m\n\u001b[1;32m    156\u001b[0m \u001b[38;5;66;03m# if it doesnt start with a ( or a ,\u001b[39;00m\n\u001b[1;32m    158\u001b[0m base \u001b[38;5;241m=\u001b[39m partial_line\u001b[38;5;241m.\u001b[39mrstrip()\n",
      "File \u001b[0;32m~/AlphaARC/alphaarc/augment/type_inference.py:107\u001b[0m, in \u001b[0;36mTypeInferer.infer_type_from_ast\u001b[0;34m(self, ast_node)\u001b[0m\n\u001b[1;32m    105\u001b[0m \u001b[38;5;28;01mdef\u001b[39;00m\u001b[38;5;250m \u001b[39m\u001b[38;5;21minfer_type_from_ast\u001b[39m(\u001b[38;5;28mself\u001b[39m, ast_node):\n\u001b[1;32m    106\u001b[0m     \u001b[38;5;28;01mfor\u001b[39;00m child \u001b[38;5;129;01min\u001b[39;00m ast\u001b[38;5;241m.\u001b[39miter_child_nodes(ast_node):\n\u001b[0;32m--> 107\u001b[0m         \u001b[38;5;28;43mself\u001b[39;49m\u001b[38;5;241;43m.\u001b[39;49m\u001b[43minfer_type_from_ast\u001b[49m\u001b[43m(\u001b[49m\u001b[43mchild\u001b[49m\u001b[43m)\u001b[49m\n\u001b[1;32m    108\u001b[0m     \u001b[38;5;28mself\u001b[39m\u001b[38;5;241m.\u001b[39mprocess_node(ast_node)\n",
      "File \u001b[0;32m~/AlphaARC/alphaarc/augment/type_inference.py:108\u001b[0m, in \u001b[0;36mTypeInferer.infer_type_from_ast\u001b[0;34m(self, ast_node)\u001b[0m\n\u001b[1;32m    106\u001b[0m \u001b[38;5;28;01mfor\u001b[39;00m child \u001b[38;5;129;01min\u001b[39;00m ast\u001b[38;5;241m.\u001b[39miter_child_nodes(ast_node):\n\u001b[1;32m    107\u001b[0m     \u001b[38;5;28mself\u001b[39m\u001b[38;5;241m.\u001b[39minfer_type_from_ast(child)\n\u001b[0;32m--> 108\u001b[0m \u001b[38;5;28;43mself\u001b[39;49m\u001b[38;5;241;43m.\u001b[39;49m\u001b[43mprocess_node\u001b[49m\u001b[43m(\u001b[49m\u001b[43mast_node\u001b[49m\u001b[43m)\u001b[49m\n",
      "File \u001b[0;32m~/AlphaARC/alphaarc/augment/type_inference.py:128\u001b[0m, in \u001b[0;36mTypeInferer.process_node\u001b[0;34m(self, node)\u001b[0m\n\u001b[1;32m    126\u001b[0m \u001b[38;5;28;01mif\u001b[39;00m \u001b[38;5;28misinstance\u001b[39m(node, ast\u001b[38;5;241m.\u001b[39mAssign):\n\u001b[1;32m    127\u001b[0m     var, f, args \u001b[38;5;241m=\u001b[39m \u001b[38;5;28mself\u001b[39m\u001b[38;5;241m.\u001b[39mparse_node(node)\n\u001b[0;32m--> 128\u001b[0m     function_type, arg_types \u001b[38;5;241m=\u001b[39m \u001b[38;5;28;43mself\u001b[39;49m\u001b[38;5;241;43m.\u001b[39;49m\u001b[43minfer_types\u001b[49m\u001b[43m(\u001b[49m\u001b[43mf\u001b[49m\u001b[43m,\u001b[49m\u001b[43m \u001b[49m\u001b[43margs\u001b[49m\u001b[43m)\u001b[49m\n\u001b[1;32m    129\u001b[0m     var_type \u001b[38;5;241m=\u001b[39m function_type \u001b[38;5;28;01mif\u001b[39;00m \u001b[38;5;28misinstance\u001b[39m(function_type, \u001b[38;5;28mstr\u001b[39m) \u001b[38;5;28;01melse\u001b[39;00m function_type\u001b[38;5;241m.\u001b[39moutput\n\u001b[1;32m    130\u001b[0m     \u001b[38;5;28mself\u001b[39m\u001b[38;5;241m.\u001b[39madd(term\u001b[38;5;241m=\u001b[39mvar, term_type\u001b[38;5;241m=\u001b[39mvar_type, value\u001b[38;5;241m=\u001b[39m\u001b[38;5;124mf\u001b[39m\u001b[38;5;124m\"\u001b[39m\u001b[38;5;132;01m{\u001b[39;00mf\u001b[38;5;132;01m}\u001b[39;00m\u001b[38;5;124m(\u001b[39m\u001b[38;5;132;01m{\u001b[39;00m\u001b[38;5;124m'\u001b[39m\u001b[38;5;124m, \u001b[39m\u001b[38;5;124m'\u001b[39m\u001b[38;5;241m.\u001b[39mjoin(args)\u001b[38;5;132;01m}\u001b[39;00m\u001b[38;5;124m)\u001b[39m\u001b[38;5;124m\"\u001b[39m)\n",
      "File \u001b[0;32m~/AlphaARC/alphaarc/augment/type_inference.py:159\u001b[0m, in \u001b[0;36mTypeInferer.infer_types\u001b[0;34m(self, f, args)\u001b[0m\n\u001b[1;32m    157\u001b[0m     function_type \u001b[38;5;241m=\u001b[39m \u001b[38;5;28mself\u001b[39m\u001b[38;5;241m.\u001b[39mtype_dict[f][\u001b[38;5;241m0\u001b[39m]\n\u001b[1;32m    158\u001b[0m \u001b[38;5;28;01melse\u001b[39;00m:\n\u001b[0;32m--> 159\u001b[0m     function_type \u001b[38;5;241m=\u001b[39m \u001b[43mget_primitive_function_type\u001b[49m\u001b[43m(\u001b[49m\u001b[43mf\u001b[49m\u001b[43m)\u001b[49m\n\u001b[1;32m    160\u001b[0m     \u001b[38;5;66;03m# check args\u001b[39;00m\n\u001b[1;32m    161\u001b[0m     \u001b[38;5;28;01mfor\u001b[39;00m i, arg_type \u001b[38;5;129;01min\u001b[39;00m \u001b[38;5;28menumerate\u001b[39m(function_type\u001b[38;5;241m.\u001b[39minputs):\n",
      "File \u001b[0;32m~/AlphaARC/alphaarc/augment/type_inference.py:49\u001b[0m, in \u001b[0;36mget_primitive_function_type\u001b[0;34m(primitive_function_name)\u001b[0m\n\u001b[1;32m     48\u001b[0m \u001b[38;5;28;01mdef\u001b[39;00m\u001b[38;5;250m \u001b[39m\u001b[38;5;21mget_primitive_function_type\u001b[39m(primitive_function_name):\n\u001b[0;32m---> 49\u001b[0m     func_def \u001b[38;5;241m=\u001b[39m \u001b[43minspect\u001b[49m\u001b[38;5;241;43m.\u001b[39;49m\u001b[43mgetsource\u001b[49m\u001b[43m(\u001b[49m\u001b[38;5;28;43meval\u001b[39;49m\u001b[43m(\u001b[49m\u001b[43mprimitive_function_name\u001b[49m\u001b[43m)\u001b[49m\u001b[43m)\u001b[49m\n\u001b[1;32m     50\u001b[0m     func_ast \u001b[38;5;241m=\u001b[39m ast\u001b[38;5;241m.\u001b[39mparse(func_def)\u001b[38;5;241m.\u001b[39mbody[\u001b[38;5;241m0\u001b[39m]\n\u001b[1;32m     51\u001b[0m     input_types \u001b[38;5;241m=\u001b[39m [arg\u001b[38;5;241m.\u001b[39mannotation\u001b[38;5;241m.\u001b[39mid \u001b[38;5;28;01mfor\u001b[39;00m arg \u001b[38;5;129;01min\u001b[39;00m func_ast\u001b[38;5;241m.\u001b[39margs\u001b[38;5;241m.\u001b[39margs]\n",
      "File \u001b[0;32m~/.conda/envs/AlphaARC/lib/python3.10/inspect.py:1139\u001b[0m, in \u001b[0;36mgetsource\u001b[0;34m(object)\u001b[0m\n\u001b[1;32m   1133\u001b[0m \u001b[38;5;28;01mdef\u001b[39;00m\u001b[38;5;250m \u001b[39m\u001b[38;5;21mgetsource\u001b[39m(\u001b[38;5;28mobject\u001b[39m):\n\u001b[1;32m   1134\u001b[0m \u001b[38;5;250m    \u001b[39m\u001b[38;5;124;03m\"\"\"Return the text of the source code for an object.\u001b[39;00m\n\u001b[1;32m   1135\u001b[0m \n\u001b[1;32m   1136\u001b[0m \u001b[38;5;124;03m    The argument may be a module, class, method, function, traceback, frame,\u001b[39;00m\n\u001b[1;32m   1137\u001b[0m \u001b[38;5;124;03m    or code object.  The source code is returned as a single string.  An\u001b[39;00m\n\u001b[1;32m   1138\u001b[0m \u001b[38;5;124;03m    OSError is raised if the source code cannot be retrieved.\"\"\"\u001b[39;00m\n\u001b[0;32m-> 1139\u001b[0m     lines, lnum \u001b[38;5;241m=\u001b[39m \u001b[43mgetsourcelines\u001b[49m\u001b[43m(\u001b[49m\u001b[38;5;28;43mobject\u001b[39;49m\u001b[43m)\u001b[49m\n\u001b[1;32m   1140\u001b[0m     \u001b[38;5;28;01mreturn\u001b[39;00m \u001b[38;5;124m'\u001b[39m\u001b[38;5;124m'\u001b[39m\u001b[38;5;241m.\u001b[39mjoin(lines)\n",
      "File \u001b[0;32m~/.conda/envs/AlphaARC/lib/python3.10/inspect.py:1131\u001b[0m, in \u001b[0;36mgetsourcelines\u001b[0;34m(object)\u001b[0m\n\u001b[1;32m   1129\u001b[0m     \u001b[38;5;28;01mreturn\u001b[39;00m lines, \u001b[38;5;241m0\u001b[39m\n\u001b[1;32m   1130\u001b[0m \u001b[38;5;28;01melse\u001b[39;00m:\n\u001b[0;32m-> 1131\u001b[0m     \u001b[38;5;28;01mreturn\u001b[39;00m \u001b[43mgetblock\u001b[49m\u001b[43m(\u001b[49m\u001b[43mlines\u001b[49m\u001b[43m[\u001b[49m\u001b[43mlnum\u001b[49m\u001b[43m:\u001b[49m\u001b[43m]\u001b[49m\u001b[43m)\u001b[49m, lnum \u001b[38;5;241m+\u001b[39m \u001b[38;5;241m1\u001b[39m\n",
      "File \u001b[0;32m~/.conda/envs/AlphaARC/lib/python3.10/inspect.py:1107\u001b[0m, in \u001b[0;36mgetblock\u001b[0;34m(lines)\u001b[0m\n\u001b[1;32m   1105\u001b[0m     tokens \u001b[38;5;241m=\u001b[39m tokenize\u001b[38;5;241m.\u001b[39mgenerate_tokens(\u001b[38;5;28miter\u001b[39m(lines)\u001b[38;5;241m.\u001b[39m\u001b[38;5;21m__next__\u001b[39m)\n\u001b[1;32m   1106\u001b[0m     \u001b[38;5;28;01mfor\u001b[39;00m _token \u001b[38;5;129;01min\u001b[39;00m tokens:\n\u001b[0;32m-> 1107\u001b[0m         \u001b[43mblockfinder\u001b[49m\u001b[38;5;241;43m.\u001b[39;49m\u001b[43mtokeneater\u001b[49m\u001b[43m(\u001b[49m\u001b[38;5;241;43m*\u001b[39;49m\u001b[43m_token\u001b[49m\u001b[43m)\u001b[49m\n\u001b[1;32m   1108\u001b[0m \u001b[38;5;28;01mexcept\u001b[39;00m (EndOfBlock, \u001b[38;5;167;01mIndentationError\u001b[39;00m):\n\u001b[1;32m   1109\u001b[0m     \u001b[38;5;28;01mpass\u001b[39;00m\n",
      "File \u001b[0;32m~/.conda/envs/AlphaARC/lib/python3.10/inspect.py:1058\u001b[0m, in \u001b[0;36mBlockFinder.tokeneater\u001b[0;34m(self, type, token, srowcol, erowcol, line)\u001b[0m\n\u001b[1;32m   1055\u001b[0m     \u001b[38;5;28mself\u001b[39m\u001b[38;5;241m.\u001b[39mlast \u001b[38;5;241m=\u001b[39m \u001b[38;5;241m1\u001b[39m\n\u001b[1;32m   1056\u001b[0m     \u001b[38;5;28mself\u001b[39m\u001b[38;5;241m.\u001b[39mbody_col0 \u001b[38;5;241m=\u001b[39m \u001b[38;5;28;01mNone\u001b[39;00m\n\u001b[0;32m-> 1058\u001b[0m \u001b[38;5;28;01mdef\u001b[39;00m\u001b[38;5;250m \u001b[39m\u001b[38;5;21mtokeneater\u001b[39m(\u001b[38;5;28mself\u001b[39m, \u001b[38;5;28mtype\u001b[39m, token, srowcol, erowcol, line):\n\u001b[1;32m   1059\u001b[0m     \u001b[38;5;28;01mif\u001b[39;00m \u001b[38;5;129;01mnot\u001b[39;00m \u001b[38;5;28mself\u001b[39m\u001b[38;5;241m.\u001b[39mstarted \u001b[38;5;129;01mand\u001b[39;00m \u001b[38;5;129;01mnot\u001b[39;00m \u001b[38;5;28mself\u001b[39m\u001b[38;5;241m.\u001b[39mindecorator:\n\u001b[1;32m   1060\u001b[0m         \u001b[38;5;66;03m# skip any decorators\u001b[39;00m\n\u001b[1;32m   1061\u001b[0m         \u001b[38;5;28;01mif\u001b[39;00m token \u001b[38;5;241m==\u001b[39m \u001b[38;5;124m\"\u001b[39m\u001b[38;5;124m@\u001b[39m\u001b[38;5;124m\"\u001b[39m:\n",
      "\u001b[0;31mKeyboardInterrupt\u001b[0m: "
     ]
    }
   ],
   "source": [
    "from alphaarc.program_completer import ProgramCompleter\n",
    "from alphaarc.augment.program_sampler import ProgramSampler\n",
    "from alphaarc.task import Task, from_dict\n",
    "import json\n",
    "import os\n",
    "import difflib\n",
    "import time \n",
    "\n",
    "def best_completion(ground_truth, wip, completions):\n",
    "    def matching_prefix_length(a, b):\n",
    "        \"\"\"Returns number of characters that match from start of both strings.\"\"\"\n",
    "        i = 0\n",
    "        while i < len(a) and i < len(b) and a[i] == b[i]:\n",
    "            i += 1\n",
    "        return i\n",
    "\n",
    "    best = None\n",
    "    best_score = -1\n",
    "\n",
    "    for comp in completions:\n",
    "        candidate = wip + comp\n",
    "        score = matching_prefix_length(candidate, ground_truth)\n",
    "        if score > best_score:\n",
    "            best_score = score\n",
    "            best = comp\n",
    "\n",
    "    return best\n",
    "\n",
    "def format_as_dummy_program(program_lines):\n",
    "    return f\"\"\"def solve_28bf18c6(I):\n",
    "    {program_lines}\"\"\"\n",
    "\n",
    "def load_tasks_from_folders(dir_path):\n",
    "        tasks = []\n",
    "        file_paths = [os.path.join(dir_path, f) for f in os.listdir(dir_path)]\n",
    "        new_tasks = [Task.from_json(path, False) for path in file_paths]\n",
    "        tasks.extend(new_tasks)\n",
    "        return tasks\n",
    "\n",
    "\n",
    "\n",
    "def complete_full_program(task, completer: ProgramCompleter): \n",
    "    prog_text = \"\"\n",
    "\n",
    "    ground_truth_text = task.program_lines\n",
    "    lines = ground_truth_text.split(\"\\n\")\n",
    "    lines = [x + \"\\n\" for x in lines[:-1]]\n",
    "\n",
    "    for i, true_line in enumerate(lines):\n",
    "        line_text = \"\"\n",
    "        while line_text != true_line:\n",
    "            \n",
    "\n",
    "            completions = completer.complete(format_as_dummy_program(prog_text + line_text), task.training_examples[0]['input'])\n",
    "            \n",
    "            best_comp = best_completion(true_line, line_text, completions)\n",
    "\n",
    "            if best_comp == None:\n",
    "                 print(completions)\n",
    "                 print(repr( line_text))\n",
    "                 print(repr(true_line))\n",
    "                 return\n",
    "            line_text += best_comp\n",
    "            \n",
    "\n",
    "        prog_text += line_text\n",
    "\n",
    "tasks = load_tasks_from_folders('../data/training/')\n",
    "sampler   = ProgramSampler(data_path=\"../data/\")\n",
    "completer = ProgramCompleter(sampler)\n",
    "\n",
    "i = 0\n",
    "\n",
    "\n",
    "for task in tasks:\n",
    "    print(task.task_key)\n",
    "    if i != 66: # we skip this as it takes quite a long time to eval.\n",
    "        complete_full_program(task, completer)\n",
    "    i += 1\n"
   ]
  },
  {
   "cell_type": "markdown",
   "id": "96c0ec74",
   "metadata": {},
   "source": [
    "## Small Tests To Query"
   ]
  },
  {
   "cell_type": "code",
   "execution_count": null,
   "id": "fa0bed68",
   "metadata": {},
   "outputs": [],
   "source": [
    "from alphaarc.program_completer import ProgramCompleter\n",
    "from alphaarc.augment.program_sampler import ProgramSampler\n",
    "from alphaarc.task import Task\n",
    "\n",
    "import ast"
   ]
  },
  {
   "cell_type": "code",
   "execution_count": null,
   "id": "ff1e5400",
   "metadata": {},
   "outputs": [],
   "source": [
    "sampler   = ProgramSampler(data_path=\"../data/\")\n",
    "completer = ProgramCompleter(sampler)"
   ]
  },
  {
   "cell_type": "code",
   "execution_count": 5,
   "id": "a438367d",
   "metadata": {},
   "outputs": [
    {
     "data": {
      "text/plain": [
       "[' NEG_UNITY,',\n",
       " ' DOWN,',\n",
       " ' SEVEN,',\n",
       " ' ONE,',\n",
       " ' FOUR,',\n",
       " ' TEN,',\n",
       " ' x2,',\n",
       " ' I,',\n",
       " ' LEFT,',\n",
       " ' ORIGIN,',\n",
       " ' NEG_ONE,',\n",
       " ' THREE,',\n",
       " ' TWO_BY_TWO,',\n",
       " ' TWO,',\n",
       " ' x3,',\n",
       " ' EIGHT,',\n",
       " ' NEG_TWO,',\n",
       " ' THREE_BY_THREE,',\n",
       " ' UP_RIGHT,',\n",
       " ' NINE,',\n",
       " ' ZERO,',\n",
       " ' FIVE,',\n",
       " ' DOWN_LEFT,',\n",
       " ' TWO_BY_ZERO,',\n",
       " ' UNITY,',\n",
       " ' ZERO_BY_TWO,',\n",
       " ' UP,',\n",
       " ' RIGHT,',\n",
       " ' SIX,']"
      ]
     },
     "execution_count": 5,
     "metadata": {},
     "output_type": "execute_result"
    }
   ],
   "source": [
    "def format_as_dummy_program(program_lines):\n",
    "    return f\"\"\"def solve_28bf18c6(I):\n",
    "    {program_lines}\"\"\"\n",
    "\n",
    "\n",
    "\n",
    "program_lines = \"\"\"x1 = objects(I, T, F, T)\n",
    "x2 = mapply(corners, x1)\n",
    "x3 = asindices(I)\n",
    "O = fill(I,\"\"\"\n",
    "\n",
    "task = Task.from_json('../data/training/aabf363d.json')\n",
    "\n",
    "\n",
    "completer.complete(format_as_dummy_program(program_lines),  task.training_examples[0]['input'])"
   ]
  }
 ],
 "metadata": {
  "kernelspec": {
   "display_name": "AlphaARC",
   "language": "python",
   "name": "python3"
  },
  "language_info": {
   "codemirror_mode": {
    "name": "ipython",
    "version": 3
   },
   "file_extension": ".py",
   "mimetype": "text/x-python",
   "name": "python",
   "nbconvert_exporter": "python",
   "pygments_lexer": "ipython3",
   "version": "3.10.16"
  }
 },
 "nbformat": 4,
 "nbformat_minor": 5
}
