{
 "cells": [
  {
   "cell_type": "markdown",
   "id": "41e5a6c9",
   "metadata": {},
   "source": [
    "# Program Completer Tests\n",
    "\n",
    "Notebook for playing around with my program completer code and ensuring it behaves as we expect."
   ]
  },
  {
   "cell_type": "markdown",
   "id": "993cdbd4",
   "metadata": {},
   "source": [
    "## Rigorous Test\n",
    "\n",
    "The following code serves as proof that our completion engine can solve all tasks. In essenece, if it can solve every training task, then it should in theory have no bugs (in theory)."
   ]
  },
  {
   "cell_type": "code",
   "execution_count": null,
   "id": "d50b372e",
   "metadata": {},
   "outputs": [
    {
     "name": "stdout",
     "output_type": "stream",
     "text": [
      "x1 = ofcolor(I, TWO)\n",
      "x2 = ofcolor(I, FIVE)\n",
      "x3 = prapply(connect, x1, x2)\n",
      "x4 = mfilter(x3, vline)\n",
      "x5 = underfill(I, TWO, x4)\n",
      "x6 = matcher(numcolors, TWO)\n",
      "x7 = objects(x5, F, F, T)\n",
      "x8 = sfilter(x7, x6)\n",
      "x9 = difference(x7, x8)\n",
      "x10 = colorfilter(x9, TWO)\n",
      "x11 = mapply(toindices, x10)\n",
      "x12 = apply(urcorner, x8)\n",
      "x13 = shift(x12, UNITY)\n",
      "x14 = rbind(shoot, UP)\n",
      "x15 = mapply(x14, x13)\n",
      "x16 = fill(x5, TWO, x15)\n",
      "x17 = mapply(vfrontier, x11)\n",
      "O = fill(x16, TWO, x17)\n"
     ]
    }
   ],
   "source": [
    "from alphaarc.program_completer import ProgramCompleter\n",
    "from alphaarc.augment.program_sampler import ProgramSampler\n",
    "from alphaarc.task import Task, from_dict\n",
    "import json\n",
    "import os\n",
    "\n",
    "def format_as_dummy_program(program_lines):\n",
    "    return f\"\"\"def solve_28bf18c6(I):\n",
    "    {program_lines}\"\"\"\n",
    "\n",
    "def load_tasks_from_folders(dir_path):\n",
    "        tasks = []\n",
    "        file_paths = [os.path.join(dir_path, f) for f in os.listdir(dir_path)]\n",
    "        new_tasks = [Task.from_json(path, False) for path in file_paths]\n",
    "        tasks.extend(new_tasks)\n",
    "        return tasks\n",
    "\n",
    "\n",
    "\n",
    "def complete_full_program(task, completer: ProgramCompleter): \n",
    "    prog_text = \"\"\n",
    "\n",
    "    ground_truth_text = task.program_lines\n",
    "    lines = ground_truth_text.split(\"\\n\")\n",
    "\n",
    "    for i, true_line in enumerate(lines):\n",
    "\n",
    "        line_text = \"\"\n",
    "        while line_text.rstrip() != true_line:\n",
    "            completions = completer.complete(format_as_dummy_program(prog_text + line_text), task.training_examples[0]['input'])\n",
    "\n",
    "            print(line_text)\n",
    "            for comp in completions:\n",
    "                 if comp.rstrip() in true_line:\n",
    "                      line_text += comp\n",
    "\n",
    "        prog_text += line_text\n",
    "\n",
    "tasks = load_tasks_from_folders('../data/training/')\n",
    "sampler   = ProgramSampler(data_path=\"../data/\")\n",
    "completer = ProgramCompleter(sampler)\n",
    "\n",
    "for task in tasks[:1]:\n",
    "     print(task.program_lines)\n",
    "     complete_full_program(task, completer)\n",
    "\n"
   ]
  },
  {
   "cell_type": "markdown",
   "id": "96c0ec74",
   "metadata": {},
   "source": [
    "## Small Tests To Query"
   ]
  },
  {
   "cell_type": "code",
   "execution_count": 1,
   "id": "fa0bed68",
   "metadata": {},
   "outputs": [],
   "source": [
    "from alphaarc.program_completer import ProgramCompleter\n",
    "from alphaarc.augment.program_sampler import ProgramSampler\n",
    "from alphaarc.task import Task\n",
    "\n",
    "import ast"
   ]
  },
  {
   "cell_type": "code",
   "execution_count": 2,
   "id": "ff1e5400",
   "metadata": {},
   "outputs": [],
   "source": [
    "sampler   = ProgramSampler(data_path=\"../data/\")\n",
    "completer = ProgramCompleter(sampler)"
   ]
  },
  {
   "cell_type": "code",
   "execution_count": 5,
   "id": "a438367d",
   "metadata": {},
   "outputs": [
    {
     "data": {
      "text/plain": [
       "['O =', 'x1 =']"
      ]
     },
     "execution_count": 5,
     "metadata": {},
     "output_type": "execute_result"
    }
   ],
   "source": [
    "def format_as_dummy_program(program_lines):\n",
    "    return f\"\"\"def solve_28bf18c6(I):\n",
    "    {program_lines}\"\"\"\n",
    "\n",
    "\n",
    "\n",
    "program_lines = \"\"\"\"\"\"\n",
    "\n",
    "task = Task.from_json('../data/training/dc1df850.json')\n",
    "\n",
    "\n",
    "completer.complete(format_as_dummy_program(program_lines),  task.training_examples[0]['input'])"
   ]
  }
 ],
 "metadata": {
  "kernelspec": {
   "display_name": "AlphaARC",
   "language": "python",
   "name": "python3"
  },
  "language_info": {
   "codemirror_mode": {
    "name": "ipython",
    "version": 3
   },
   "file_extension": ".py",
   "mimetype": "text/x-python",
   "name": "python",
   "nbconvert_exporter": "python",
   "pygments_lexer": "ipython3",
   "version": "3.10.16"
  }
 },
 "nbformat": 4,
 "nbformat_minor": 5
}
