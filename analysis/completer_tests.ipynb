{
 "cells": [
  {
   "cell_type": "code",
   "execution_count": 8,
   "id": "3ff95618",
   "metadata": {},
   "outputs": [],
   "source": [
    "from alphaarc.program_completer import ProgramCompleter\n",
    "from alphaarc.augment.program_sampler import ProgramSampler\n",
    "from alphaarc.task import Task\n",
    "\n",
    "import ast"
   ]
  },
  {
   "cell_type": "code",
   "execution_count": 3,
   "id": "755cd317",
   "metadata": {},
   "outputs": [],
   "source": [
    "sampler   = ProgramSampler(data_path=\"../data/\")\n",
    "completer = ProgramCompleter(sampler)"
   ]
  },
  {
   "cell_type": "code",
   "execution_count": 19,
   "id": "7994b74a",
   "metadata": {},
   "outputs": [
    {
     "data": {
      "text/plain": [
       "<ast.Module at 0x7afc80556320>"
      ]
     },
     "execution_count": 19,
     "metadata": {},
     "output_type": "execute_result"
    }
   ],
   "source": [
    "prog_text = \"\"\"def solve_28bf18c6(I):\n",
    "    x1 = hmirror(I)\n",
    "    O = \"\"\"\n",
    "\n",
    "\n",
    "prog_lines = prog_text.split(\"\\n\")\n",
    "\n",
    "finished_part = \"\\n\".join(prog_lines[:-1])\n",
    "\n",
    "\n",
    "ast.parse(finished_part)\n"
   ]
  }
 ],
 "metadata": {
  "kernelspec": {
   "display_name": "AlphaARC",
   "language": "python",
   "name": "python3"
  },
  "language_info": {
   "codemirror_mode": {
    "name": "ipython",
    "version": 3
   },
   "file_extension": ".py",
   "mimetype": "text/x-python",
   "name": "python",
   "nbconvert_exporter": "python",
   "pygments_lexer": "ipython3",
   "version": "3.10.16"
  }
 },
 "nbformat": 4,
 "nbformat_minor": 5
}
