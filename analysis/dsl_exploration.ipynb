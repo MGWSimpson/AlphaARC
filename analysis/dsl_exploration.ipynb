{
 "cells": [
  {
   "cell_type": "code",
   "execution_count": 4,
   "id": "19b6f5da",
   "metadata": {},
   "outputs": [],
   "source": [
    "\"\"\"\n",
    "Basically what I want this to do is to pull in an example task. And just understand how many primitives are available. \n",
    "Just construct the list of available functions\n",
    "\"\"\"\n",
    "\n",
    "from alphaarc.task import Task, from_dict"
   ]
  },
  {
   "cell_type": "code",
   "execution_count": null,
   "id": "28cf4b18",
   "metadata": {},
   "outputs": [],
   "source": [
    "\n",
    "import json\n",
    "\n",
    "\n",
    "with open('../data/mutated_tasks_train_9600.json') as f:\n",
    "    mutated_tasks_json = json.load(f)\n",
    "\n",
    "\n",
    "\n",
    "\n",
    "\n",
    "example_task = mutated_tasks_json['007bbfb7_it0_0']\n",
    "example_task = from_dict(example_task)"
   ]
  },
  {
   "cell_type": "code",
   "execution_count": null,
   "id": "a5b9853e",
   "metadata": {},
   "outputs": [
    {
     "data": {
      "text/plain": [
       "<alphaarc.task.Task at 0x7fa13c210e50>"
      ]
     },
     "execution_count": 6,
     "metadata": {},
     "output_type": "execute_result"
    }
   ],
   "source": []
  }
 ],
 "metadata": {
  "kernelspec": {
   "display_name": "AlphaARC",
   "language": "python",
   "name": "python3"
  },
  "language_info": {
   "codemirror_mode": {
    "name": "ipython",
    "version": 3
   },
   "file_extension": ".py",
   "mimetype": "text/x-python",
   "name": "python",
   "nbconvert_exporter": "python",
   "pygments_lexer": "ipython3",
   "version": "3.10.16"
  }
 },
 "nbformat": 4,
 "nbformat_minor": 5
}
