{
 "cells": [
  {
   "cell_type": "code",
   "execution_count": 2,
   "id": "a9fc3ed7",
   "metadata": {},
   "outputs": [
    {
     "data": {
      "text/plain": [
       "{'67b4a34d': ['x1 = ofcolor(I, THREE)\\nx2 = replace(I, THREE, ZERO)\\nx3 = dmirror(x2)\\nx4 = papply(pair, x2, x3)\\nx5 = lbind(apply, maximum)\\nx6 = apply(x5, x4)\\nx7 = cmirror(x6)\\nx8 = papply(pair, x6, x7)\\nx9 = apply(x5, x8)\\nO = subgrid(x1, x9)',\n",
       "  'x1 = ofcolor(I, THREE)\\nx2 = replace(I, THREE, ZERO)\\nx3 = dmirror(x2)\\nx4 = papply(pair, x2, x3)\\nx5 = lbind(apply, maximum)\\nx6 = apply(x5, x4)\\nx7 = cmirror(x6)\\nx8 = papply(pair, x6, x7)\\nx9 = apply(x5, x8)\\nO = subgrid(x1, x9)',\n",
       "  'x1 = ofcolor(I, THREE)\\nx2 = replace(I, THREE, ZERO)\\nx3 = dmirror(x2)\\nx4 = papply(pair, x2, x3)\\nx5 = lbind(apply, maximum)\\nx6 = apply(x5, x4)\\nx7 = cmirror(x6)\\nx8 = papply(pair, x6, x7)\\nx9 = apply(x5, x8)\\nO = subgrid(x1, x9)',\n",
       "  'x1 = ofcolor(I, THREE)\\nx2 = replace(I, THREE, ZERO)\\nx3 = dmirror(x2)\\nx4 = papply(pair, x2, x3)\\nx5 = lbind(apply, maximum)\\nx6 = apply(x5, x4)\\nx7 = cmirror(x6)\\nx8 = papply(pair, x6, x7)\\nx9 = apply(x5, x8)\\nO = subgrid(x1, x9)'],\n",
       " 'e345f17b': ['x1 = lefthalf(I)\\nx2 = righthalf(I)\\nx3 = ofcolor(x1, ZERO)\\nx4 = ofcolor(x2, ZERO)\\nx5 = astuple(FOUR, FOUR)\\nx6 = canvas(ZERO, x5)\\nx7 = intersection(x3, x4)\\nO = fill(x6, FOUR, x7)',\n",
       "  'x1 = lefthalf(I)\\nx2 = righthalf(I)\\nx3 = ofcolor(x1, ZERO)\\nx4 = ofcolor(x2, ZERO)\\nx5 = intersection(x3, x4)\\nx6 = shape(x1)\\nx7 = canvas(ZERO, x6)\\nO = fill(x7, FOUR, x5)',\n",
       "  'x1 = lefthalf(I)\\nx2 = righthalf(I)\\nx3 = ofcolor(x1, ZERO)\\nx4 = ofcolor(x2, ZERO)\\nx5 = intersection(x3, x4)\\nx6 = shape(x1)\\nx7 = canvas(ZERO, x6)\\nO = fill(x7, FOUR, x5)'],\n",
       " '070dd51e': ['x1 = partition(I)\\nx2 = fork(recolor, color, backdrop)\\nx3 = apply(x2, x1)\\nx4 = mfilter(x3, hline)\\nx5 = mfilter(x3, vline)\\nx6 = paint(I, x4)\\nO = paint(x6, x5)',\n",
       "  'x1 = partition(I)\\nx2 = fork(recolor, color, backdrop)\\nx3 = apply(x2, x1)\\nx4 = mfilter(x3, hline)\\nx5 = mfilter(x3, vline)\\nx6 = paint(I, x4)\\nO = paint(x6, x5)',\n",
       "  'x1 = partition(I)\\nx2 = fork(recolor, color, backdrop)\\nx3 = apply(x2, x1)\\nx4 = mfilter(x3, hline)\\nx5 = mfilter(x3, vline)\\nx6 = paint(I, x4)\\nO = paint(x6, x5)',\n",
       "  'x1 = fgpartition(I)\\nx2 = fork(recolor, color, backdrop)\\nx3 = apply(x2, x1)\\nx4 = mfilter(x3, hline)\\nx5 = mfilter(x3, vline)\\nx6 = paint(I, x4)\\nO = paint(x6, x5)',\n",
       "  'x1 = partition(I)\\nx2 = fork(recolor, color, backdrop)\\nx3 = apply(x2, x1)\\nx4 = mfilter(x3, hline)\\nx5 = mfilter(x3, vline)\\nx6 = underpaint(I, x4)\\nO = paint(x6, x5)'],\n",
       " 'e133d23d': ['x1 = lefthalf(I)\\nx2 = righthalf(I)\\nx3 = ofcolor(x1, SIX)\\nx4 = ofcolor(x2, EIGHT)\\nx5 = combine(x3, x4)\\nO = fill(x1, TWO, x5)',\n",
       "  'x1 = lefthalf(I)\\nx2 = righthalf(I)\\nx3 = ofcolor(x1, SIX)\\nx4 = ofcolor(x2, EIGHT)\\nx5 = combine(x3, x4)\\nO = fill(x1, TWO, x5)'],\n",
       " '5d2a5c43': ['x1 = lefthalf(I)\\nx2 = righthalf(I)\\nx3 = ofcolor(x1, FOUR)\\nx4 = ofcolor(x2, FOUR)\\nx5 = combine(x3, x4)\\nO = fill(x1, EIGHT, x5)',\n",
       "  'x1 = lefthalf(I)\\nx2 = righthalf(I)\\nx3 = ofcolor(x1, ZERO)\\nx4 = ofcolor(x2, ZERO)\\nx5 = intersection(x3, x4)\\nx6 = shape(x1)\\nx7 = canvas(EIGHT, x6)\\nO = fill(x7, ZERO, x5)'],\n",
       " '903d1b4a': ['x1 = replace(I, THREE, ZERO)\\nx2 = dmirror(x1)\\nx3 = papply(pair, x1, x2)\\nx4 = lbind(apply, maximum)\\nx5 = apply(x4, x3)\\nx6 = cmirror(x5)\\nx7 = papply(pair, x5, x6)\\nx8 = apply(x4, x7)\\nO = cmirror(x8)',\n",
       "  'x1 = replace(I, THREE, ZERO)\\nx2 = dmirror(x1)\\nx3 = papply(pair, x1, x2)\\nx4 = lbind(apply, maximum)\\nx5 = apply(x4, x3)\\nx6 = cmirror(x5)\\nx7 = papply(pair, x5, x6)\\nx8 = apply(x4, x7)\\nO = cmirror(x8)',\n",
       "  'x1 = replace(I, THREE, ZERO)\\nx2 = dmirror(x1)\\nx3 = papply(pair, x1, x2)\\nx4 = lbind(apply, maximum)\\nx5 = apply(x4, x3)\\nx6 = cmirror(x5)\\nx7 = papply(pair, x5, x6)\\nx8 = apply(x4, x7)\\nO = cmirror(x8)',\n",
       "  'x1 = replace(I, THREE, ZERO)\\nx2 = dmirror(x1)\\nx3 = papply(pair, x1, x2)\\nx4 = lbind(apply, maximum)\\nx5 = apply(x4, x3)\\nx6 = cmirror(x5)\\nx7 = papply(pair, x5, x6)\\nx8 = apply(x4, x7)\\nO = cmirror(x8)'],\n",
       " '68b67ca3': ['x1 = compress(I)\\nx2 = downscale(x1, THREE)\\nx3 = replace(x2, SIX, SEVEN)\\nx4 = righthalf(I)\\nx5 = ofcolor(x1, ZERO)\\nx6 = ofcolor(x3, ZERO)\\nx7 = combine(x5, x6)\\nO = fill(x1, ZERO, x7)',\n",
       "  'x1 = switch(I, NINE, NEG_ONE)\\nx2 = compress(x1)\\nx3 = equality(x2, x2)\\nx4 = branch(x3, ONE, SEVEN)\\nO = crop(x2, ORIGIN, THREE_BY_THREE)'],\n",
       " '73182012': ['x1 = trim(I)\\nx2 = portrait(x1)\\nx3 = branch(x2, x1, I)\\nx4 = objects(x3, F, F, T)\\nx5 = first(x4)\\nx6 = subgrid(x5, x3)\\nx7 = lefthalf(x6)\\nO = tophalf(x7)'],\n",
       " '31d5ba1a': ['x1 = tophalf(I)\\nx2 = bottomhalf(I)\\nx3 = ofcolor(x1, ZERO)\\nx4 = ofcolor(x2, ZERO)\\nx5 = combine(x3, x4)\\nx6 = intersection(x3, x4)\\nx7 = difference(x5, x6)\\nx8 = shape(x1)\\nx9 = canvas(ZERO, x8)\\nO = fill(x9, SIX, x7)']}"
      ]
     },
     "execution_count": 2,
     "metadata": {},
     "output_type": "execute_result"
    }
   ],
   "source": [
    "\n",
    "\n",
    "\n",
    "import json\n",
    "\n",
    "with open('../data.jsonl', 'r') as file:\n",
    "    data = json.load(file)\n",
    "\n",
    "\n",
    "data"
   ]
  },
  {
   "cell_type": "code",
   "execution_count": 4,
   "metadata": {},
   "outputs": [],
   "source": [
    "from alphaarc.task import Task\n",
    "from alphaarc.env import LineLevelArcEnv\n",
    "from alphaarc.policy.environment import execute_candidate_program, check_syntax\n",
    "\n",
    "\n",
    "for task_key in data:\n",
    "    task = Task.from_json(f'../data/evaluation/{task_key}.json')\n",
    "    for program_string in data[task_key]: \n",
    "        for test_example in task.test_examples: \n",
    "            st = test_example['input']\n",
    "            output = execute_candidate_program(program_string=program_string, program_input=st)\n",
    "            does_match = output == test_example['output']\n",
    "            if not does_match:\n",
    "                print(task_key)\n",
    "            \n"
   ]
  },
  {
   "cell_type": "code",
   "execution_count": 3,
   "id": "4be2a412",
   "metadata": {},
   "outputs": [
    {
     "ename": "KeyError",
     "evalue": "'c8f0f002'",
     "output_type": "error",
     "traceback": [
      "\u001b[0;31m---------------------------------------------------------------------------\u001b[0m",
      "\u001b[0;31mKeyError\u001b[0m                                  Traceback (most recent call last)",
      "Cell \u001b[0;32mIn[3], line 6\u001b[0m\n\u001b[1;32m      2\u001b[0m \u001b[38;5;28;01mfrom\u001b[39;00m\u001b[38;5;250m \u001b[39m\u001b[38;5;21;01malphaarc\u001b[39;00m\u001b[38;5;21;01m.\u001b[39;00m\u001b[38;5;21;01menv\u001b[39;00m\u001b[38;5;250m \u001b[39m\u001b[38;5;28;01mimport\u001b[39;00m LineLevelArcEnv\n\u001b[1;32m      3\u001b[0m \u001b[38;5;28;01mfrom\u001b[39;00m\u001b[38;5;250m \u001b[39m\u001b[38;5;21;01malphaarc\u001b[39;00m\u001b[38;5;21;01m.\u001b[39;00m\u001b[38;5;21;01mpolicy\u001b[39;00m\u001b[38;5;21;01m.\u001b[39;00m\u001b[38;5;21;01menvironment\u001b[39;00m\u001b[38;5;250m \u001b[39m\u001b[38;5;28;01mimport\u001b[39;00m execute_candidate_program, check_syntax\n\u001b[0;32m----> 6\u001b[0m sample_task_answers \u001b[38;5;241m=\u001b[39m\u001b[43mdata\u001b[49m\u001b[43m[\u001b[49m\u001b[38;5;124;43m'\u001b[39;49m\u001b[38;5;124;43mc8f0f002\u001b[39;49m\u001b[38;5;124;43m'\u001b[39;49m\u001b[43m]\u001b[49m\n\u001b[1;32m      8\u001b[0m task \u001b[38;5;241m=\u001b[39m Task\u001b[38;5;241m.\u001b[39mfrom_json(\u001b[38;5;124m'\u001b[39m\u001b[38;5;124m../data/training/c8f0f002.json\u001b[39m\u001b[38;5;124m'\u001b[39m)\n\u001b[1;32m     11\u001b[0m program_string \u001b[38;5;241m=\u001b[39m sample_task_answers[\u001b[38;5;241m0\u001b[39m]\n",
      "\u001b[0;31mKeyError\u001b[0m: 'c8f0f002'"
     ]
    }
   ],
   "source": [
    "from alphaarc.task import Task\n",
    "from alphaarc.env import LineLevelArcEnv\n",
    "from alphaarc.policy.environment import execute_candidate_program, check_syntax\n",
    "\n",
    "\n",
    "sample_task_answers =data['c8f0f002']\n",
    "\n",
    "task = Task.from_json('../data/training/c8f0f002.json')\n",
    "\n",
    "\n",
    "program_string = sample_task_answers[0]\n",
    "st = task.test_examples[0]['input']\n",
    "output = execute_candidate_program(program_string=program_string, program_input=st)\n",
    "output == task.test_examples[0]['output']\n"
   ]
  },
  {
   "cell_type": "code",
   "execution_count": null,
   "id": "c15a9a7d",
   "metadata": {},
   "outputs": [],
   "source": []
  }
 ],
 "metadata": {
  "kernelspec": {
   "display_name": "AlphaARC",
   "language": "python",
   "name": "python3"
  },
  "language_info": {
   "codemirror_mode": {
    "name": "ipython",
    "version": 3
   },
   "file_extension": ".py",
   "mimetype": "text/x-python",
   "name": "python",
   "nbconvert_exporter": "python",
   "pygments_lexer": "ipython3",
   "version": "3.10.16"
  }
 },
 "nbformat": 4,
 "nbformat_minor": 5
}
