{
 "cells": [
  {
   "cell_type": "code",
   "execution_count": 2,
   "id": "a9fc3ed7",
   "metadata": {},
   "outputs": [
    {
     "data": {
      "text/plain": [
       "{'c8f0f002': ['x1 = objects(I, T, F, T)\\nx2 = sizefilter(x1, ONE)\\nx3 = fgpartition(I)\\nx4 = difference(x3, x2)\\nx5 = merge(x2)\\nO = replace(I, SEVEN, FIVE)',\n",
       "  'x1 = objects(I, T, F, T)\\nx2 = mapply(corners, x1)\\nO = replace(I, SEVEN, FIVE)',\n",
       "  'x1 = objects(I, T, F, T)\\nx2 = sizefilter(x1, ONE)\\nx3 = fgpartition(I)\\nx4 = merge(x3)\\nO = replace(I, SEVEN, FIVE)'],\n",
       " 'ac0a08a4': ['x1 = numcolors(I)\\nx2 = decrement(x1)\\nO = upscale(I, x2)',\n",
       "  'x1 = numcolors(I)\\nx2 = decrement(x1)\\nO = upscale(I, x2)',\n",
       "  'x1 = objects(I, T, F, T)\\nx2 = numcolors(I)\\nx3 = decrement(x2)\\nO = upscale(I, x3)'],\n",
       " '6d75e8bb': ['x1 = objects(I, T, F, T)\\nx2 = mapply(delta, x1)\\nO = fill(I, TWO, x2)'],\n",
       " 'ff805c23': ['x1 = leastcolor(I)\\nx2 = ofcolor(I, x1)\\nx3 = rot180(I)\\nx4 = ofcolor(x3, x1)\\nx5 = ulcorner(x2)\\nx6 = ulcorner(x4)\\nx7 = subtract(x5, x6)\\nx8 = recolor(x1, x2)\\nO = subgrid(x8, x3)',\n",
       "  'x1 = leastcolor(I)\\nx2 = ofcolor(I, x1)\\nx3 = rot180(I)\\nO = subgrid(x2, x3)',\n",
       "  'x1 = leastcolor(I)\\nx2 = ofcolor(I, x1)\\nx3 = rot180(I)\\nO = subgrid(x2, x3)'],\n",
       " '9ecd008a': ['x1 = ofcolor(I, ZERO)\\nx2 = asindices(I)\\nx3 = dmirror(I)\\nx4 = invert(NINE)\\nx5 = papply(pair, I, x3)\\nx6 = lbind(apply, maximum)\\nx7 = apply(x6, x5)\\nx8 = cmirror(x7)\\nx9 = papply(pair, x7, x8)\\nx10 = apply(x6, x9)\\nO = subgrid(x1, x10)',\n",
       "  'x1 = ofcolor(I, ZERO)\\nx2 = replace(I, NEG_TWO, THREE)\\nx3 = vmirror(x2)\\nx4 = papply(pair, x2, x3)\\nx5 = lbind(apply, maximum)\\nx6 = apply(x5, x4)\\nx7 = cmirror(x6)\\nx8 = papply(pair, x6, x7)\\nx9 = apply(x5, x8)\\nO = subgrid(x1, x9)',\n",
       "  'x1 = ofcolor(I, ZERO)\\nx2 = dmirror(I)\\nx3 = invert(NINE)\\nx4 = papply(pair, I, x2)\\nx5 = lbind(apply, maximum)\\nx6 = apply(x5, x4)\\nx7 = cmirror(x6)\\nx8 = papply(pair, x6, x7)\\nx9 = apply(x5, x8)\\nO = subgrid(x1, x9)'],\n",
       " '68b16354': ['O = hmirror(I)', 'O = hmirror(I)', 'O = hmirror(I)'],\n",
       " '6150a2bd': ['x1 = compress(I)\\nO = rot180(I)',\n",
       "  'O = rot180(I)',\n",
       "  'O = rot180(I)'],\n",
       " '4258a5f9': ['x1 = objects(I, T, F, T)\\nx2 = fgpartition(I)\\nx3 = apply(outbox, x1)\\nx4 = mapply(backdrop, x3)\\nO = underfill(I, ONE, x4)']}"
      ]
     },
     "execution_count": 2,
     "metadata": {},
     "output_type": "execute_result"
    }
   ],
   "source": [
    "\n",
    "\n",
    "\n",
    "import json\n",
    "\n",
    "with open('../data.jsonl', 'r') as file:\n",
    "    data = json.load(file)\n",
    "\n",
    "\n",
    "data"
   ]
  },
  {
   "cell_type": "code",
   "execution_count": 11,
   "metadata": {},
   "outputs": [],
   "source": [
    "from alphaarc.task import Task\n",
    "from alphaarc.env import LineLevelArcEnv\n",
    "from alphaarc.policy.environment import execute_candidate_program, check_syntax\n",
    "\n",
    "\n",
    "for task_key in data:\n",
    "    task = Task.from_json(f'../data/training/{task_key}.json')\n",
    "    for program_string in data[task_key]: \n",
    "        for test_example in task.test_examples: \n",
    "            st = test_example['input']\n",
    "            output = execute_candidate_program(program_string=program_string, program_input=st)\n",
    "            does_match = output == test_example['output']\n",
    "            if not does_match:\n",
    "                print(task_key)\n",
    "            \n"
   ]
  },
  {
   "cell_type": "code",
   "execution_count": 2,
   "id": "4be2a412",
   "metadata": {},
   "outputs": [
    {
     "data": {
      "text/plain": [
       "True"
      ]
     },
     "execution_count": 2,
     "metadata": {},
     "output_type": "execute_result"
    }
   ],
   "source": [
    "from alphaarc.task import Task\n",
    "from alphaarc.env import LineLevelArcEnv\n",
    "from alphaarc.policy.environment import execute_candidate_program, check_syntax\n",
    "\n",
    "\n",
    "sample_task_answers =data['c8f0f002']\n",
    "\n",
    "task = Task.from_json('../data/training/c8f0f002.json')\n",
    "\n",
    "\n",
    "program_string = sample_task_answers[0]\n",
    "st = task.test_examples[0]['input']\n",
    "output = execute_candidate_program(program_string=program_string, program_input=st)\n",
    "output == task.test_examples[0]['output']\n"
   ]
  },
  {
   "cell_type": "code",
   "execution_count": null,
   "id": "c15a9a7d",
   "metadata": {},
   "outputs": [],
   "source": []
  }
 ],
 "metadata": {
  "kernelspec": {
   "display_name": "AlphaARC",
   "language": "python",
   "name": "python3"
  },
  "language_info": {
   "codemirror_mode": {
    "name": "ipython",
    "version": 3
   },
   "file_extension": ".py",
   "mimetype": "text/x-python",
   "name": "python",
   "nbconvert_exporter": "python",
   "pygments_lexer": "ipython3",
   "version": "3.10.16"
  }
 },
 "nbformat": 4,
 "nbformat_minor": 5
}
