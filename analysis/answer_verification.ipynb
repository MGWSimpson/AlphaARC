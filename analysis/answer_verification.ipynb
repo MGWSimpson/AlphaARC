{
 "cells": [
  {
   "cell_type": "code",
   "execution_count": 1,
   "id": "a9fc3ed7",
   "metadata": {},
   "outputs": [
    {
     "data": {
      "text/plain": [
       "{'ac0a08a4': ['x1 = compress(I)\\nx2 = numcolors(x1)\\nx3 = decrement(x2)\\nO = upscale(I, x3)']}"
      ]
     },
     "execution_count": 1,
     "metadata": {},
     "output_type": "execute_result"
    }
   ],
   "source": [
    "\n",
    "\n",
    "\n",
    "import json\n",
    "\n",
    "with open('../data.jsonl', 'r') as file:\n",
    "    data = json.load(file)\n",
    "\n",
    "\n",
    "data"
   ]
  },
  {
   "cell_type": "code",
   "execution_count": 3,
   "id": "4be2a412",
   "metadata": {},
   "outputs": [
    {
     "data": {
      "text/plain": [
       "True"
      ]
     },
     "execution_count": 3,
     "metadata": {},
     "output_type": "execute_result"
    }
   ],
   "source": [
    "from alphaarc.task import Task\n",
    "from alphaarc.env import LineLevelArcEnv\n",
    "from alphaarc.policy.environment import execute_candidate_program, check_syntax\n",
    "\n",
    "\n",
    "sample_task_answers =data['ac0a08a4']\n",
    "\n",
    "\n",
    "task = Task.from_json('../data/training/ac0a08a4.json')\n",
    "\n",
    "\n",
    "program_string = sample_task_answers[0]\n",
    "st = task.test_examples[0]['input']\n",
    "output = execute_candidate_program(program_string=program_string, program_input=st)\n",
    "output == task.test_examples[0]['output']\n"
   ]
  },
  {
   "cell_type": "code",
   "execution_count": null,
   "id": "c15a9a7d",
   "metadata": {},
   "outputs": [],
   "source": []
  }
 ],
 "metadata": {
  "kernelspec": {
   "display_name": "AlphaARC",
   "language": "python",
   "name": "python3"
  },
  "language_info": {
   "codemirror_mode": {
    "name": "ipython",
    "version": 3
   },
   "file_extension": ".py",
   "mimetype": "text/x-python",
   "name": "python",
   "nbconvert_exporter": "python",
   "pygments_lexer": "ipython3",
   "version": "3.10.16"
  }
 },
 "nbformat": 4,
 "nbformat_minor": 5
}
