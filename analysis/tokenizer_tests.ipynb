{
 "cells": [
  {
   "cell_type": "code",
   "execution_count": 1,
   "id": "7c7eb64f",
   "metadata": {},
   "outputs": [],
   "source": [
    "from transformers import AutoTokenizer"
   ]
  },
  {
   "cell_type": "code",
   "execution_count": 2,
   "id": "81e83101",
   "metadata": {},
   "outputs": [],
   "source": [
    "tok = AutoTokenizer.from_pretrained('Salesforce/codet5p-220m')"
   ]
  },
  {
   "cell_type": "code",
   "execution_count": 16,
   "id": "395f74ac",
   "metadata": {},
   "outputs": [
    {
     "data": {
      "text/plain": [
       "{'input_ids': [76, 16426, 12, 92, 21, 16, 467, 16], 'attention_mask': [1, 1, 1, 1, 1, 1, 1, 1]}"
      ]
     },
     "execution_count": 16,
     "metadata": {},
     "output_type": "execute_result"
    }
   ],
   "source": [
    "tok(\"hconcat(x1, I,\", add_special_tokens=False)"
   ]
  },
  {
   "cell_type": "markdown",
   "id": "edccef30",
   "metadata": {},
   "source": [
    "After some experiments, it seems that like the tokenizing thing isn't actually that big a deal because they don't get weirdly merged like in other languages."
   ]
  },
  {
   "cell_type": "markdown",
   "id": "4e9d23d8",
   "metadata": {},
   "source": [
    "This is the same with commas and punctuations marks and stuff like that."
   ]
  }
 ],
 "metadata": {
  "kernelspec": {
   "display_name": "AlphaARC",
   "language": "python",
   "name": "python3"
  },
  "language_info": {
   "codemirror_mode": {
    "name": "ipython",
    "version": 3
   },
   "file_extension": ".py",
   "mimetype": "text/x-python",
   "name": "python",
   "nbconvert_exporter": "python",
   "pygments_lexer": "ipython3",
   "version": "3.10.16"
  }
 },
 "nbformat": 4,
 "nbformat_minor": 5
}
