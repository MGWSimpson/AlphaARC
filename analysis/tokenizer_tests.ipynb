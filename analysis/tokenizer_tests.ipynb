{
 "cells": [
  {
   "cell_type": "code",
   "execution_count": 2,
   "id": "7c7eb64f",
   "metadata": {},
   "outputs": [],
   "source": [
    "from transformers import AutoTokenizer"
   ]
  },
  {
   "cell_type": "code",
   "execution_count": 3,
   "id": "81e83101",
   "metadata": {},
   "outputs": [],
   "source": [
    "tok = AutoTokenizer.from_pretrained('Salesforce/codet5p-220m')"
   ]
  },
  {
   "cell_type": "code",
   "execution_count": 6,
   "id": "395f74ac",
   "metadata": {},
   "outputs": [
    {
     "data": {
      "text/plain": [
       "{'input_ids': [92, 21, 273, 366, 16426, 12, 92, 203], 'attention_mask': [1, 1, 1, 1, 1, 1, 1, 1]}"
      ]
     },
     "execution_count": 6,
     "metadata": {},
     "output_type": "execute_result"
    }
   ],
   "source": [
    "tok(\"x1 = hconcat(x\\n\", add_special_tokens=False)"
   ]
  },
  {
   "cell_type": "markdown",
   "id": "edccef30",
   "metadata": {},
   "source": [
    "After some experiments, it seems that like the tokenizing thing isn't actually that big a deal because they don't get weirdly merged like in other languages."
   ]
  },
  {
   "cell_type": "markdown",
   "id": "4e9d23d8",
   "metadata": {},
   "source": [
    "This is the same with commas and punctuations marks and stuff like that."
   ]
  },
  {
   "cell_type": "markdown",
   "id": "90fa1cc9",
   "metadata": {},
   "source": [
    "This isnt true for spaces. I think I realized the best thing to do is to like, add the piece of syntax if there is no other choice. Like for example, a closing bracket with a new line. Like there is no other thing you can put there. Like with the spaces, there is options, it could be a space, or like an I or whatever. And so I think thats what is going slightly weird in the original implementation. Ok this is good progress."
   ]
  }
 ],
 "metadata": {
  "kernelspec": {
   "display_name": "AlphaARC",
   "language": "python",
   "name": "python3"
  },
  "language_info": {
   "codemirror_mode": {
    "name": "ipython",
    "version": 3
   },
   "file_extension": ".py",
   "mimetype": "text/x-python",
   "name": "python",
   "nbconvert_exporter": "python",
   "pygments_lexer": "ipython3",
   "version": "3.10.16"
  }
 },
 "nbformat": 4,
 "nbformat_minor": 5
}
